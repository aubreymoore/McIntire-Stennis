{
 "cells": [
  {
   "cell_type": "code",
   "execution_count": 29,
   "id": "99cd5d5a-8128-4b93-af4d-a3a907e9c678",
   "metadata": {},
   "outputs": [],
   "source": [
    "import pandas as pd\n",
    "pd.set_option('max_colwidth', None)\n",
    "import os\n",
    "import numpy as np"
   ]
  },
  {
   "cell_type": "code",
   "execution_count": 30,
   "id": "a3de9793-a953-4929-acf4-3a8ef346d52c",
   "metadata": {},
   "outputs": [
    {
     "data": {
      "text/html": [
       "<div>\n",
       "<style scoped>\n",
       "    .dataframe tbody tr th:only-of-type {\n",
       "        vertical-align: middle;\n",
       "    }\n",
       "\n",
       "    .dataframe tbody tr th {\n",
       "        vertical-align: top;\n",
       "    }\n",
       "\n",
       "    .dataframe thead th {\n",
       "        text-align: right;\n",
       "    }\n",
       "</style>\n",
       "<table border=\"1\" class=\"dataframe\">\n",
       "  <thead>\n",
       "    <tr style=\"text-align: right;\">\n",
       "      <th></th>\n",
       "      <th>dataset_doi</th>\n",
       "      <th>dataset_key</th>\n",
       "      <th>dataset_title</th>\n",
       "      <th>dataset_citation</th>\n",
       "      <th>number_records</th>\n",
       "    </tr>\n",
       "  </thead>\n",
       "  <tbody>\n",
       "    <tr>\n",
       "      <th>1</th>\n",
       "      <td>10.15468/8z7axw</td>\n",
       "      <td>56e311e3-43c6-4b99-aa21-af396074d5e3</td>\n",
       "      <td>University of Guam Insect Collection</td>\n",
       "      <td>NaN</td>\n",
       "      <td>15300</td>\n",
       "    </tr>\n",
       "    <tr>\n",
       "      <th>2</th>\n",
       "      <td>10.15468/kyulwg</td>\n",
       "      <td>262f8270-f9c2-4bc6-a562-8ed71c0790e6</td>\n",
       "      <td>Stuart M. Fullerton Collection of Arthropods (UCFC), University of Central Florida</td>\n",
       "      <td>Song H, Johnson N (2018). Stuart M. Fullerton Collection of Arthropods (UCFC), University of Central Florida. Version 85.36. Museum of Biological Diversity, The Ohio State University. Occurrence dataset https://doi.org/10.15468/kyulwg accessed via GBIF.org on 2018-10-25.</td>\n",
       "      <td>1466</td>\n",
       "    </tr>\n",
       "    <tr>\n",
       "      <th>3</th>\n",
       "      <td>10.15468/ab3s5x</td>\n",
       "      <td>50c9509d-22c7-4a22-a47d-8c48425ef4a7</td>\n",
       "      <td>iNaturalist Research-grade Observations</td>\n",
       "      <td>NaN</td>\n",
       "      <td>923</td>\n",
       "    </tr>\n",
       "    <tr>\n",
       "      <th>4</th>\n",
       "      <td>10.15468/hnhrg3</td>\n",
       "      <td>821cc27a-e3bb-4bc5-ac34-89ada245069d</td>\n",
       "      <td>NMNH Extant Specimen Records (USNM, US)</td>\n",
       "      <td>Orrell T,  (2023): NMNH Extant Specimen Records (USNM, US). v1.65. National Museum of Natural History, Smithsonian Institution. Dataset/Occurrence. https://collections.nmnh.si.edu/ipt/resource?r=nmnh_extant_dwc-a&amp;v=1.65</td>\n",
       "      <td>700</td>\n",
       "    </tr>\n",
       "    <tr>\n",
       "      <th>5</th>\n",
       "      <td>10.5281/zenodo.5167701</td>\n",
       "      <td>5f279ac2-63c6-4bd8-be9e-0e3d82b73ab2</td>\n",
       "      <td>Miscellaneous Families of Guam Coleoptera</td>\n",
       "      <td>Swezey, O. H. (1942): Miscellaneous Families of Guam Coleoptera. In: Insects of Guam I. Honolulu, Hawaii: Bernice P. Bishop Museum: 150-171, DOI: http://doi.org/10.5281/zenodo.5167701</td>\n",
       "      <td>491</td>\n",
       "    </tr>\n",
       "    <tr>\n",
       "      <th>...</th>\n",
       "      <td>...</td>\n",
       "      <td>...</td>\n",
       "      <td>...</td>\n",
       "      <td>...</td>\n",
       "      <td>...</td>\n",
       "    </tr>\n",
       "    <tr>\n",
       "      <th>87</th>\n",
       "      <td>10.15468/iv0fi1</td>\n",
       "      <td>a5262686-e9bc-45b4-8b4f-ec2d2321bb3b</td>\n",
       "      <td>First record of Eggplant Mealybug, Coccidohystrix insolita (Hemiptera: Pseudococcidae), on Guam: Potentially a major pest</td>\n",
       "      <td>Moore A, Watson G, Bamba J (2014) First record of Eggplant Mealybug, Coccidohystrix insolita (Hemiptera: Pseudococcidae), on Guam: Potentially a major pest. Biodiversity Data Journal 2: e1042. doi: 10.3897/BDJ.2.e1042</td>\n",
       "      <td>1</td>\n",
       "    </tr>\n",
       "    <tr>\n",
       "      <th>88</th>\n",
       "      <td>10.15468/mvtuf5</td>\n",
       "      <td>e4d3fc77-1d94-495b-96ff-3fe8b8f7a3bd</td>\n",
       "      <td>hymenoptera</td>\n",
       "      <td>NaN</td>\n",
       "      <td>1</td>\n",
       "    </tr>\n",
       "    <tr>\n",
       "      <th>89</th>\n",
       "      <td>10.15468/lrgzz9</td>\n",
       "      <td>6e4b215e-9019-4934-8433-65d80a35c230</td>\n",
       "      <td>New Zealand Arthropod Collection (NZAC)</td>\n",
       "      <td>Manaaki Whenua - Landcare Research (2016-)  New Zealand Arthropod Collection (NZAC) specimen data.</td>\n",
       "      <td>1</td>\n",
       "    </tr>\n",
       "    <tr>\n",
       "      <th>90</th>\n",
       "      <td>10.15468/jb9tdf</td>\n",
       "      <td>26098c25-8f7f-4c71-97ac-1d3db181c65e</td>\n",
       "      <td>NMNH Material Samples (USNM)</td>\n",
       "      <td>Orrell T,  (2023): NMNH Material Samples (USNM). v1.48. National Museum of Natural History, Smithsonian Institution. Dataset/Occurrence. https://collections.nmnh.si.edu/ipt/resource?r=nmnh_material_sample&amp;v=1.48</td>\n",
       "      <td>1</td>\n",
       "    </tr>\n",
       "    <tr>\n",
       "      <th>91</th>\n",
       "      <td>10.5281/zenodo.273767</td>\n",
       "      <td>daea9e8b-0c17-46ba-8d74-9990b408f14a</td>\n",
       "      <td>New ants (Hymenoptera: Formicidae) from Micronesia</td>\n",
       "      <td>Clouse, Ronald M. (2007): New ants (Hymenoptera: Formicidae) from Micronesia. Zootaxa 1475: 1-19, DOI: 10.5281/zenodo.273767</td>\n",
       "      <td>1</td>\n",
       "    </tr>\n",
       "  </tbody>\n",
       "</table>\n",
       "<p>91 rows × 5 columns</p>\n",
       "</div>"
      ],
      "text/plain": [
       "               dataset_doi                           dataset_key  \\\n",
       "1          10.15468/8z7axw  56e311e3-43c6-4b99-aa21-af396074d5e3   \n",
       "2          10.15468/kyulwg  262f8270-f9c2-4bc6-a562-8ed71c0790e6   \n",
       "3          10.15468/ab3s5x  50c9509d-22c7-4a22-a47d-8c48425ef4a7   \n",
       "4          10.15468/hnhrg3  821cc27a-e3bb-4bc5-ac34-89ada245069d   \n",
       "5   10.5281/zenodo.5167701  5f279ac2-63c6-4bd8-be9e-0e3d82b73ab2   \n",
       "..                     ...                                   ...   \n",
       "87         10.15468/iv0fi1  a5262686-e9bc-45b4-8b4f-ec2d2321bb3b   \n",
       "88         10.15468/mvtuf5  e4d3fc77-1d94-495b-96ff-3fe8b8f7a3bd   \n",
       "89         10.15468/lrgzz9  6e4b215e-9019-4934-8433-65d80a35c230   \n",
       "90         10.15468/jb9tdf  26098c25-8f7f-4c71-97ac-1d3db181c65e   \n",
       "91   10.5281/zenodo.273767  daea9e8b-0c17-46ba-8d74-9990b408f14a   \n",
       "\n",
       "                                                                                                                dataset_title  \\\n",
       "1                                                                                        University of Guam Insect Collection   \n",
       "2                                          Stuart M. Fullerton Collection of Arthropods (UCFC), University of Central Florida   \n",
       "3                                                                                     iNaturalist Research-grade Observations   \n",
       "4                                                                                     NMNH Extant Specimen Records (USNM, US)   \n",
       "5                                                                                   Miscellaneous Families of Guam Coleoptera   \n",
       "..                                                                                                                        ...   \n",
       "87  First record of Eggplant Mealybug, Coccidohystrix insolita (Hemiptera: Pseudococcidae), on Guam: Potentially a major pest   \n",
       "88                                                                                                                hymenoptera   \n",
       "89                                                                                    New Zealand Arthropod Collection (NZAC)   \n",
       "90                                                                                               NMNH Material Samples (USNM)   \n",
       "91                                                                         New ants (Hymenoptera: Formicidae) from Micronesia   \n",
       "\n",
       "                                                                                                                                                                                                                                                                   dataset_citation  \\\n",
       "1                                                                                                                                                                                                                                                                               NaN   \n",
       "2   Song H, Johnson N (2018). Stuart M. Fullerton Collection of Arthropods (UCFC), University of Central Florida. Version 85.36. Museum of Biological Diversity, The Ohio State University. Occurrence dataset https://doi.org/10.15468/kyulwg accessed via GBIF.org on 2018-10-25.   \n",
       "3                                                                                                                                                                                                                                                                               NaN   \n",
       "4                                                       Orrell T,  (2023): NMNH Extant Specimen Records (USNM, US). v1.65. National Museum of Natural History, Smithsonian Institution. Dataset/Occurrence. https://collections.nmnh.si.edu/ipt/resource?r=nmnh_extant_dwc-a&v=1.65   \n",
       "5                                                                                           Swezey, O. H. (1942): Miscellaneous Families of Guam Coleoptera. In: Insects of Guam I. Honolulu, Hawaii: Bernice P. Bishop Museum: 150-171, DOI: http://doi.org/10.5281/zenodo.5167701   \n",
       "..                                                                                                                                                                                                                                                                              ...   \n",
       "87                                                        Moore A, Watson G, Bamba J (2014) First record of Eggplant Mealybug, Coccidohystrix insolita (Hemiptera: Pseudococcidae), on Guam: Potentially a major pest. Biodiversity Data Journal 2: e1042. doi: 10.3897/BDJ.2.e1042   \n",
       "88                                                                                                                                                                                                                                                                              NaN   \n",
       "89                                                                                                                                                                               Manaaki Whenua - Landcare Research (2016-)  New Zealand Arthropod Collection (NZAC) specimen data.   \n",
       "90                                                              Orrell T,  (2023): NMNH Material Samples (USNM). v1.48. National Museum of Natural History, Smithsonian Institution. Dataset/Occurrence. https://collections.nmnh.si.edu/ipt/resource?r=nmnh_material_sample&v=1.48   \n",
       "91                                                                                                                                                     Clouse, Ronald M. (2007): New ants (Hymenoptera: Formicidae) from Micronesia. Zootaxa 1475: 1-19, DOI: 10.5281/zenodo.273767   \n",
       "\n",
       "    number_records  \n",
       "1            15300  \n",
       "2             1466  \n",
       "3              923  \n",
       "4              700  \n",
       "5              491  \n",
       "..             ...  \n",
       "87               1  \n",
       "88               1  \n",
       "89               1  \n",
       "90               1  \n",
       "91               1  \n",
       "\n",
       "[91 rows x 5 columns]"
      ]
     },
     "execution_count": 30,
     "metadata": {},
     "output_type": "execute_result"
    }
   ],
   "source": [
    "df = pd.read_csv('datasets.tsv', sep='\\t')\n",
    "df.sort_values(by=['number_records'], ascending=False, inplace=True)\n",
    "df.index = np.arange(1, len(df) + 1)\n",
    "df"
   ]
  },
  {
   "cell_type": "code",
   "execution_count": 31,
   "id": "1bf68d35-0180-45bc-b98d-387568946ca3",
   "metadata": {},
   "outputs": [
    {
     "data": {
      "text/plain": [
       "40"
      ]
     },
     "execution_count": 31,
     "metadata": {},
     "output_type": "execute_result"
    }
   ],
   "source": [
    "# Indices of datasets built, at least partially, by my McIntire-Stennis project; selected manually\n",
    "\n",
    "ms_data = [1,3,5,6,8,9,10,11,12,13,14,17,20,21,22,23,24,25,26,29,31,32,33,34,35,36,38,39,41,43,44,46,47,48,50,51,57,60,61,74]\n",
    "len(ms_data)"
   ]
  },
  {
   "cell_type": "code",
   "execution_count": 32,
   "id": "3e57d277-2d18-42e3-9705-f33ec2622605",
   "metadata": {},
   "outputs": [
    {
     "name": "stderr",
     "output_type": "stream",
     "text": [
      "/tmp/ipykernel_648066/1971476588.py:3: SettingWithCopyWarning: \n",
      "A value is trying to be set on a copy of a slice from a DataFrame.\n",
      "Try using .loc[row_indexer,col_indexer] = value instead\n",
      "\n",
      "See the caveats in the documentation: https://pandas.pydata.org/pandas-docs/stable/user_guide/indexing.html#returning-a-view-versus-a-copy\n",
      "  df1['ms'] = ''\n",
      "/tmp/ipykernel_648066/1971476588.py:20: FutureWarning: In future versions `DataFrame.to_latex` is expected to utilise the base implementation of `Styler.to_latex` for formatting and rendering. The arguments signature may therefore change. It is recommended instead to use `DataFrame.style.to_latex` which also contains additional functionality.\n",
      "  s= df1.to_latex(index=True, longtable=True, multicolumn=True, column_format='llp{5in}r', escape=False, caption=caption)\n"
     ]
    }
   ],
   "source": [
    "df1 = df[['dataset_title', 'dataset_key', 'number_records']]\n",
    "\n",
    "df1['ms'] = ''\n",
    "for i in ms_data:\n",
    "    df1.loc[i, 'ms'] = '*'\n",
    "\n",
    "df1['dataset'] = df.apply(lambda row: f'\\href{{https://www.gbif.org/dataset/{row.dataset_key}}}{{{row.dataset_title}}}', axis=1)\n",
    "df1.rename(columns={'number_records':'Guam records'}, inplace=True)\n",
    "df1 = df1[['ms', 'dataset', 'Guam records']]\n",
    "\n",
    "# make caption\n",
    "\n",
    "total = df1[\"Guam records\"].sum()\n",
    "ms = df1[df1.ms==\"*\"][\"Guam records\"].sum()\n",
    "percent = int(100 * ms / total)\n",
    "caption = f'''GBIF datasets containing Guam insect occurrence records. \n",
    "* indicates datasets which were contain data contributed by McIntire-Stennis project GU0930. \n",
    "These datasets contain {percent} percent ({ms} of {total}) of Guam occurrence records for insects.''' \n",
    "\n",
    "s= df1.to_latex(index=True, longtable=True, multicolumn=True, column_format='llp{5in}r', escape=False, caption=caption) \n",
    "s = s.replace('A&M', 'A\\&M')\n",
    "s = s.replace('Guadeloupe_Insectes', 'Guadeloupe\\_Insectes') \n",
    "\n",
    "with open('datasets.tex', 'w') as f:\n",
    "    f.write(s)"
   ]
  },
  {
   "cell_type": "code",
   "execution_count": 39,
   "id": "5c3e89a2-3511-45f6-b680-67e7c39c7706",
   "metadata": {},
   "outputs": [
    {
     "data": {
      "text/plain": [
       "'\\\\begin{longtable}{llp{5in}r}\\n\\\\caption{GBIF datasets containing Guam insect occurrence records. \\n* indicates datasets which were contain data contributed by McIntire-Stennis project GU0930. \\nThese datasets contain 85 percent (19481 of 22802) of Guam occurrence records for insects.}\\\\\\\\\\n\\\\toprule\\n{} & ms &                                                                                                                                                                                                                                                                    dataset &  Guam records \\\\\\\\\\n\\\\midrule\\n\\\\endfirsthead\\n\\\\caption[]{GBIF datasets containing Guam insect occurrence records. \\n* indicates datasets which were contain data contributed by McIntire-Stennis project GU0930. \\nThese datasets contain 85 percent (19481 of 22802) of Guam occurrence records for insects.} \\\\\\\\\\n\\\\toprule\\n{} & ms &                                                                                                                                                                                                                                                                    dataset &  Guam records \\\\\\\\\\n\\\\midrule\\n\\\\endhead\\n\\\\midrule\\n\\\\multicolumn{4}{r}{{Continued on next page}} \\\\\\\\\\n\\\\midrule\\n\\\\endfoot\\n\\n\\\\bottomrule\\n\\\\endlastfoot\\n1  &  * &                                                                                                                                                             \\\\href{https://www.gbif.org/dataset/56e311e3-43c6-4b99-aa21-af396074d5e3}{University of Guam Insect Collection} &         15300 \\\\\\\\\\n2  &    &                                                                                                               \\\\href{https://www.gbif.org/dataset/262f8270-f9c2-4bc6-a562-8ed71c0790e6}{Stuart M. Fullerton Collection of Arthropods (UCFC), University of Central Florida} &          1466 \\\\\\\\\\n3  &  * &                                                                                                                                                          \\\\href{https://www.gbif.org/dataset/50c9509d-22c7-4a22-a47d-8c48425ef4a7}{iNaturalist Research-grade Observations} &           923 \\\\\\\\\\n4  &    &                                                                                                                                                          \\\\href{https://www.gbif.org/dataset/821cc27a-e3bb-4bc5-ac34-89ada245069d}{NMNH Extant Specimen Records (USNM, US)} &           700 \\\\\\\\\\n5  &  * &                                                                                                                                                        \\\\href{https://www.gbif.org/dataset/5f279ac2-63c6-4bd8-be9e-0e3d82b73ab2}{Miscellaneous Families of Guam Coleoptera} &           491 \\\\\\\\\\n6  &  * &                                                                                                                            \\\\href{https://www.gbif.org/dataset/058b438a-ffe3-452b-a286-9267419b3014}{Lepidoptera, Geometridae, Arctiidae, Agrotidae, and Pyralidae of Guam} &           436 \\\\\\\\\\n7  &    &                                                                                                                                             \\\\href{https://www.gbif.org/dataset/7e380070-f762-11e1-a439-00145eb45e9a}{Natural History Museum (London) Collection Specimens} &           410 \\\\\\\\\\n8  &  * &                                                                                                                                                                    \\\\href{https://www.gbif.org/dataset/e7ce9dca-1d2b-4aad-8471-7ea2c177da53}{Hemiptera Heteroptera of Guam} &           396 \\\\\\\\\\n9  &  * &                                                                                                                                                                            \\\\href{https://www.gbif.org/dataset/d0309e8b-3179-4162-946c-08cef1c82013}{Curculionidae of Guam} &           246 \\\\\\\\\\n10 &  * &                                                                                                                                                                   \\\\href{https://www.gbif.org/dataset/6dc2872d-cbab-4982-baed-c0969e3e3236}{Hymenoptera Formicidae of Guam} &           189 \\\\\\\\\\n11 &  * &                                                                                                                                                                  \\\\href{https://www.gbif.org/dataset/2eb23bc8-fdf6-422e-afde-a708a845592c}{Notes On Some Guam Chalcidoidea} &           135 \\\\\\\\\\n12 &  * &                                                                                                                                                                \\\\href{https://www.gbif.org/dataset/8ddfacbb-c42b-4385-b70b-ea5bd759c377}{Notes On Some Fulgoroidea Of Guam} &           131 \\\\\\\\\\n13 &  * &                                                                                                                              \\\\href{https://www.gbif.org/dataset/16f6ef92-619b-417b-946c-22d9b1445e7d}{Orthoptera And Related Orders Orthoptera And Related Orders Of Guam} &           128 \\\\\\\\\\n14 &  * &                                                                                                                                                     \\\\href{https://www.gbif.org/dataset/62345736-dcf6-4c38-a870-36a90992dabb}{Homoptera, Fulgoroidea and Jassoidea of Guam} &           119 \\\\\\\\\\n15 &    &                                                                                                                                                     \\\\href{https://www.gbif.org/dataset/040c5662-da76-4782-a48e-cdea1892d14c}{International Barcode of Life project (iBOL)} &           109 \\\\\\\\\\n16 &    &                                                                                                                                                                                  \\\\href{https://www.gbif.org/dataset/d8cd16ba-bb74-4420-821e-083f2bac17c2}{INSDC Sequences} &           107 \\\\\\\\\\n17 &  * &                                                                                                                                                                 \\\\href{https://www.gbif.org/dataset/9298158c-3c02-4ba2-ab8a-87c7f9c8e70b}{Lepidoptera, Butterflies of Guam} &           105 \\\\\\\\\\n18 &    &                                                                                                                                                            \\\\href{https://www.gbif.org/dataset/beed1b50-8c73-11dc-aaed-b8a03c50a862}{Australian National Insect Collection} &           102 \\\\\\\\\\n19 &    &                                                                                                                                                                             \\\\href{https://www.gbif.org/dataset/14f3151a-e95d-493c-a40d-d9938ef62954}{CAS Entomology (ENT)} &            90 \\\\\\\\\\n20 &  * &                                                                                                                                                                                 \\\\href{https://www.gbif.org/dataset/ddbdc4ea-a921-4961-b58d-4b28fed11e68}{Coccidae of Guam} &            77 \\\\\\\\\\n21 &  * &                                                                                                                                                                                    \\\\href{https://www.gbif.org/dataset/1df399c6-c920-4862-81a3-dd51f0a28471}{Wasps of Guam} &            72 \\\\\\\\\\n22 &  * &                                                                                                                                                 \\\\href{https://www.gbif.org/dataset/6e65e7d3-7a72-4da4-9739-5e3814593490}{Ichneumonidae, Evaniidae, And Braconidae Of Guam} &            71 \\\\\\\\\\n23 &  * &                                                                                                                                                                     \\\\href{https://www.gbif.org/dataset/c9232a85-5a09-440a-9ede-102073e7b6f0}{ODONATA, DRAGONFLIES OF GUAM} &            70 \\\\\\\\\\n24 &  * &                                                                                                                                                               \\\\href{https://www.gbif.org/dataset/7b960500-f4a3-4b8f-8b56-440fdc9431c9}{SOME MISCELLANEOUS DIPTERA OF GUAM} &            66 \\\\\\\\\\n25 &  * &                                                                                                                                                   \\\\href{https://www.gbif.org/dataset/7f2d2fe5-8875-4048-9191-b6ef16320fdb}{New Longicorn Beetles From Guam (Cerambycidae)} &            60 \\\\\\\\\\n26 &  * &                                                                                                                                                                   \\\\href{https://www.gbif.org/dataset/592c9898-f961-4f9b-a833-5de174eb834b}{Neuropteroid Insects from Guam} &            58 \\\\\\\\\\n27 &    &                                                                                                                                                                                           \\\\href{https://www.gbif.org/dataset/13b70480-bd69-11dd-b15f-b8a03c50a862}{AntWeb} &            49 \\\\\\\\\\n28 &    &                                                                                                                                                              \\\\href{https://www.gbif.org/dataset/06448b27-4c5c-4296-8ece-a87e124c4f4e}{Wichita State University Collection} &            48 \\\\\\\\\\n29 &  * &                                                                                                                                                                  \\\\href{https://www.gbif.org/dataset/7700299b-eb39-4c24-86fe-2eabb15beda7}{Coleoptera Heteromera From Guam} &            46 \\\\\\\\\\n30 &    &                                                                                                                                                                       \\\\href{https://www.gbif.org/dataset/5d283bb6-64dd-4626-8b3b-a4e8db5415c3}{Essig Museum of Entomology} &            42 \\\\\\\\\\n31 &  * &                                                                                                                                                                              \\\\href{https://www.gbif.org/dataset/204ef7e8-5ba9-4591-8275-598a53611feb}{Psyllidae from Guam} &            38 \\\\\\\\\\n32 &  * &                                                                                                                                                                              \\\\href{https://www.gbif.org/dataset/0f4ee0b0-7d0e-443c-b4c9-0b40ecd08854}{Anthribidae Of Guam} &            34 \\\\\\\\\\n33 &  * &                                                                                                                                                                     \\\\href{https://www.gbif.org/dataset/9c8d5683-76c1-4938-aede-b7ad5391b6b2}{Thysanoptera: Thrips of Guam} &            31 \\\\\\\\\\n34 &  * &                                                                                                                                                                                     \\\\href{https://www.gbif.org/dataset/356a98ac-1526-4045-ae7f-52d08e753dfb}{Bees of Guam} &            31 \\\\\\\\\\n35 &  * &                                                                                                                               \\\\href{https://www.gbif.org/dataset/607dcc60-66ea-494e-b613-ee258734404c}{Trypetidae, Otitidae, Helomyzidae, And Clusiidae of Guam (Diptera)} &            28 \\\\\\\\\\n36 &  * &                                                                                                                                                                              \\\\href{https://www.gbif.org/dataset/c79684a6-ca35-4efe-be33-dfe58b5b83df}{Barkbeetles of Guam} &            28 \\\\\\\\\\n37 &    &                                                                                                                                                \\\\href{https://www.gbif.org/dataset/4bfac3ea-8763-4f4b-a71a-76a6f5f243d3}{Museum of Comparative Zoology, Harvard University} &            26 \\\\\\\\\\n38 &  * &                                                                                                                                                    \\\\href{https://www.gbif.org/dataset/11d04f7a-e744-4ac9-b0af-3cbf68f8cc92}{Hymenoptera, New Species Of Guam Chalcidoidea} &            22 \\\\\\\\\\n39 &  * &                                                                                                                                                                       \\\\href{https://www.gbif.org/dataset/557bdb7f-b592-4a14-a6a4-ea253697cf9a}{Diptera, Tipulidae of Guam} &            20 \\\\\\\\\\n40 &    &                                                                                                                                  \\\\href{https://www.gbif.org/dataset/84ab7b76-f762-11e1-a439-00145eb45e9a}{C.A. Triplehorn Insect Collection (OSUC), Ohio State University} &            20 \\\\\\\\\\n41 &  * &                                                                                                                                                                    \\\\href{https://www.gbif.org/dataset/cbd6479d-ac43-4609-ab60-e69de966ed9c}{Homoptera, Cercopidae of Guam} &            19 \\\\\\\\\\n42 &    &                                                                                                                                           \\\\href{https://www.gbif.org/dataset/0d8d90f4-973a-46a1-9ea1-55b0c7b222ea}{San Diego Natural History Museum Entomology Department} &            18 \\\\\\\\\\n43 &  * &                                                                                                                                                            \\\\href{https://www.gbif.org/dataset/13d05d68-bf03-4cfb-b96c-b7017e829854}{Elaterid And Eucnemid Beetles Of Guam} &            17 \\\\\\\\\\n44 &  * &                                                                                                                                                 \\\\href{https://www.gbif.org/dataset/3efb1a4f-0515-49ba-9d61-b7c1b4326613}{Some New Species Of Nemocerous Diptera From Guam} &            17 \\\\\\\\\\n45 &    &                                                                                                                                                 \\\\href{https://www.gbif.org/dataset/95f74c02-f762-11e1-a439-00145eb45e9a}{Gunma Museum of Natural History, Insect Specimen} &            17 \\\\\\\\\\n46 &  * &                                                                                                                                                                              \\\\href{https://www.gbif.org/dataset/38b66f4f-97ce-4458-822b-c6c3dcff3ba7}{Membracidae of Guam} &            15 \\\\\\\\\\n47 &  * &                                                                                                                                                                \\\\href{https://www.gbif.org/dataset/797184fa-5b39-4a0e-8810-fb8e630838fd}{Coleoptera, Staphylinidae Of Guam} &            14 \\\\\\\\\\n48 &  * &                                                                                                                                                                               \\\\href{https://www.gbif.org/dataset/2930c6b8-746b-45ac-96c0-1fd19de653bb}{Sphingidae Of Guam} &            11 \\\\\\\\\\n49 &    &                                                                                                                                                                 \\\\href{https://www.gbif.org/dataset/9b12d595-11ea-4128-88ea-ed378eb9ea9a}{Mississippi Entomological Museum} &            10 \\\\\\\\\\n50 &  * &                                                                                                                                                                                \\\\href{https://www.gbif.org/dataset/88488cba-2f64-4fbe-a0fa-ca99dd98ae55}{Culicidae of Guam} &            10 \\\\\\\\\\n51 &  * &                                                                                                                                                                             \\\\href{https://www.gbif.org/dataset/25a9c8d4-a695-4a1a-88b1-080201b8e616}{Rhipiceridae Of Guam} &             9 \\\\\\\\\\n52 &    &                                                                                                                                                               \\\\href{https://www.gbif.org/dataset/47576eae-c976-4c45-adc2-35d895bb1cbb}{University of Hawaii Insect Museum} &             8 \\\\\\\\\\n53 &    &                                                                                                                               \\\\href{https://www.gbif.org/dataset/8971dfba-f762-11e1-a439-00145eb45e9a}{University of Alberta E. H. Strickland Entomological Museum (UASM)} &             8 \\\\\\\\\\n54 &    &                                                                                                               \\\\href{https://www.gbif.org/dataset/7931dcab-94f1-46ce-8092-56e4335423de}{Field Museum of Natural History (Zoology) Insect, Arachnid and Myriapod Collection} &             8 \\\\\\\\\\n55 &    &                                                                                                                        \\\\href{https://www.gbif.org/dataset/9940af5a-3271-4e6a-ad71-ced986b9a9a5}{Entomological Collections (NHRS), Swedish Museum of Natural History (NRM)} &             8 \\\\\\\\\\n56 &    &                                                                                                                                                                            \\\\href{https://www.gbif.org/dataset/297ecc07-da20-4ebf-9f41-4f80330b4b33}{UTEP Insects (Arctos)} &             7 \\\\\\\\\\n57 &  * &                                                                                                                                                                                 \\\\href{https://www.gbif.org/dataset/9b2056ec-f71b-4ff8-b642-e7aed6aa0eeb}{Isoptera of Guam} &             6 \\\\\\\\\\n58 &    &                                                                                                                                                           \\\\href{https://www.gbif.org/dataset/96193ea2-f762-11e1-a439-00145eb45e9a}{Texas A\\\\&M University Insect Collection} &             6 \\\\\\\\\\n59 &    &                                                                                                                                 \\\\href{https://www.gbif.org/dataset/32bd22ce-7d3f-4eac-8203-e9f61a19c7f0}{Revision Of Brachystethus (Heteroptera, Pentatomidae, Edessinae)} &             6 \\\\\\\\\\n60 &  * &                                                                                                                                                                                   \\\\href{https://www.gbif.org/dataset/cadac5b6-f94f-4a2c-bf21-9e41c1f153fc}{Ciidae of Guam} &             5 \\\\\\\\\\n61 &  * &                                                                                                                                                                \\\\href{https://www.gbif.org/dataset/4b8ded0c-2d13-4692-88bc-11c60ca8c8dd}{Aphididae and Aleurodidae Of Guam} &             5 \\\\\\\\\\n62 &    &                                                                                                                                                             \\\\href{https://www.gbif.org/dataset/dce8feb0-6c89-11de-8225-b8a03c50a862}{Australian Museum provider for OZCAM} &             5 \\\\\\\\\\n63 &    &                                                                                                                                                             \\\\href{https://www.gbif.org/dataset/a79c2b50-6c8a-11de-8226-b8a03c50a862}{Queensland Museum provider for OZCAM} &             4 \\\\\\\\\\n64 &    &                                                                                                                                                      \\\\href{https://www.gbif.org/dataset/323b0e80-5e4b-4cc4-936a-d93fc8cae9bc}{C.P. Gillette Museum of Arthropod Diversity} &             4 \\\\\\\\\\n65 &    &                                                                                                                                                         \\\\href{https://www.gbif.org/dataset/96404cc2-f762-11e1-a439-00145eb45e9a}{Entomology Division, Yale Peabody Museum} &             4 \\\\\\\\\\n66 &    &                                                                                                                                                                       \\\\href{https://www.gbif.org/dataset/0ec927cf-325a-4d63-9499-d721c734463a}{LACM Entomology Collection} &             4 \\\\\\\\\\n67 &    &                                                                                        \\\\href{https://www.gbif.org/dataset/60161840-b9ca-420f-9ef4-c0918e409da6}{Revision of the black fungus gnat species (Diptera: Sciaridae) described by W. A. Steffan from Micronesia} &             4 \\\\\\\\\\n68 &    &  \\\\href{https://www.gbif.org/dataset/4a65facc-ae9e-4379-a86f-0d8d34f58096}{Synonymy of Reikosiella Yoshimoto under Merostenus Walker (Hymenoptera: Chalcidoidea: Eupelmidae), with a checklist of world species and a revision of those species with brachypterous females} &             3 \\\\\\\\\\n69 &    &                                                                                                                                                   \\\\href{https://www.gbif.org/dataset/82a7898c-f762-11e1-a439-00145eb45e9a}{Swiss Psyllid (Hemiptera) Collections - Geneva} &             3 \\\\\\\\\\n70 &    &                                                                                                                                              \\\\href{https://www.gbif.org/dataset/2c7e0e7d-190e-4d9e-9c37-8c9e1d12f52b}{New ants (Hymenoptera: Formicidae) from Micronesia.} &             2 \\\\\\\\\\n71 &    &                                                                                                                                     \\\\href{https://www.gbif.org/dataset/aea75e24-7003-4c32-b29c-1e0512af5f96}{Dryinidae of the Oriental region (Hymenoptera: Chrysidoidea)} &             2 \\\\\\\\\\n72 &    &                                                                                                                                                     \\\\href{https://www.gbif.org/dataset/6a0a95c6-c07a-4c35-9e9f-f776e8730fd4}{Naturalis Biodiversity Center (NL) - Diptera} &             2 \\\\\\\\\\n73 &    &                                                                                                                                                                \\\\href{https://www.gbif.org/dataset/275319e1-f91c-406f-b239-62cb9d4185cb}{Lyman Entomological Museum (LEMQ)} &             2 \\\\\\\\\\n74 &  * &                                                                                                                                                                             \\\\href{https://www.gbif.org/dataset/5728a9af-6e4a-46e1-a28e-5e4aa1cb9a6f}{Strepsiptera of Guam} &             2 \\\\\\\\\\n75 &    &                                                      \\\\href{https://www.gbif.org/dataset/37e33fa8-2cb4-4693-86c6-77bb430b5baa}{Comparative morphology of the endophallic structures of the genus Laius (Coleoptera, Melyridae), with the descriptions of three new species} &             1 \\\\\\\\\\n76 &    &                                                                                                                                                 \\\\href{https://www.gbif.org/dataset/33614778-513a-4ec0-814d-125021cca5fe}{Global compendium of Aedes albopictus occurrence} &             1 \\\\\\\\\\n77 &    &                                                                                                                                                              \\\\href{https://www.gbif.org/dataset/6c032b27-e4fe-4bc9-8f11-6b5f864910ce}{Cleveland Museum of Natural History} &             1 \\\\\\\\\\n78 &    &                                                                                                                   \\\\href{https://www.gbif.org/dataset/3937c7f9-d611-4ce1-be9d-3d615adb919c}{A taxonomic revision of the Cardiocondyla nuda group (Hymenoptera: Formicidae)} &             1 \\\\\\\\\\n79 &    &                                                                                                                                                           \\\\href{https://www.gbif.org/dataset/10e44c48-0839-4a20-86d5-f0e23ae2e366}{Bee Biology and Systematics Laboratory} &             1 \\\\\\\\\\n80 &    &                                                                                                                                 \\\\href{https://www.gbif.org/dataset/2356f899-6244-4bbb-aa33-50e29132e86a}{Lund University Biological Museum - Insect collections Inventory} &             1 \\\\\\\\\\n81 &    &                                                                                                                                                \\\\href{https://www.gbif.org/dataset/e6b15dc0-d70e-446b-bf28-4ddb1a9f4f41}{North Carolina State University Insect Collection} &             1 \\\\\\\\\\n82 &    &                                                                                                                                                                              \\\\href{https://www.gbif.org/dataset/e4526ee9-1592-4764-8af1-c89621255f82}{Guadeloupe\\\\_Insectes} &             1 \\\\\\\\\\n83 &    &                                        \\\\href{https://www.gbif.org/dataset/ac9a4b1b-b3d2-4bb0-9ed3-0232012e96c2}{On the origin of Anagyrus callidus (Hymenoptera: Encyrtidae), a parasitoid of pink hibiscus mealybug Maconellicoccus hirsutus (Hemiptera: Pseudococcidae)} &             1 \\\\\\\\\\n84 &    &                                                                                                                                                                      \\\\href{https://www.gbif.org/dataset/d185ab72-3518-4cb8-b9ad-79010d6eef70}{Invertebrata varia (Luomus)} &             1 \\\\\\\\\\n85 &    &                                                                                                                                                                   \\\\href{https://www.gbif.org/dataset/0f188bfc-2537-4863-90b7-3b5f856dc87e}{Coleoptera World (Luomus) (EC)} &             1 \\\\\\\\\\n86 &    &                                                                                                             \\\\href{https://www.gbif.org/dataset/68c30283-d2a7-4742-96cb-52e249598ff9}{Entomological Specimens of Museum of Nature and Human Activities, Hyogo Pref., Japan} &             1 \\\\\\\\\\n87 &    &                                                                        \\\\href{https://www.gbif.org/dataset/a5262686-e9bc-45b4-8b4f-ec2d2321bb3b}{First record of Eggplant Mealybug, Coccidohystrix insolita (Hemiptera: Pseudococcidae), on Guam: Potentially a major pest} &             1 \\\\\\\\\\n88 &    &                                                                                                                                                                                      \\\\href{https://www.gbif.org/dataset/e4d3fc77-1d94-495b-96ff-3fe8b8f7a3bd}{hymenoptera} &             1 \\\\\\\\\\n89 &    &                                                                                                                                                          \\\\href{https://www.gbif.org/dataset/6e4b215e-9019-4934-8433-65d80a35c230}{New Zealand Arthropod Collection (NZAC)} &             1 \\\\\\\\\\n90 &    &                                                                                                                                                                     \\\\href{https://www.gbif.org/dataset/26098c25-8f7f-4c71-97ac-1d3db181c65e}{NMNH Material Samples (USNM)} &             1 \\\\\\\\\\n91 &    &                                                                                                                                               \\\\href{https://www.gbif.org/dataset/daea9e8b-0c17-46ba-8d74-9990b408f14a}{New ants (Hymenoptera: Formicidae) from Micronesia} &             1 \\\\\\\\\\n\\\\end{longtable}\\n'"
      ]
     },
     "execution_count": 39,
     "metadata": {},
     "output_type": "execute_result"
    }
   ],
   "source": [
    "s"
   ]
  }
 ],
 "metadata": {
  "kernelspec": {
   "display_name": "Python 3 (ipykernel)",
   "language": "python",
   "name": "python3"
  },
  "language_info": {
   "codemirror_mode": {
    "name": "ipython",
    "version": 3
   },
   "file_extension": ".py",
   "mimetype": "text/x-python",
   "name": "python",
   "nbconvert_exporter": "python",
   "pygments_lexer": "ipython3",
   "version": "3.9.5"
  }
 },
 "nbformat": 4,
 "nbformat_minor": 5
}
